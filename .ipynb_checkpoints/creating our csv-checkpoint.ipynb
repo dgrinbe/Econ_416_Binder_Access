{
 "cells": [
  {
   "cell_type": "code",
   "execution_count": null,
   "id": "ba68c875",
   "metadata": {},
   "outputs": [],
   "source": [
    "import pandas as pd\n",
    "\n",
    "un_edit_date_list=[d.strftime('%Y%m%d') for d in pd.date_range('20220125','20221214')] #YYYYMMDD\n",
    "date_list=[]\n",
    "for i in un_edit_date_list:\n",
    "    j=str(i)\n",
    "    x=(j[:4])+\"-\"+(j[4:6])+\"-\"+(j[6:])\n",
    "    date_list.append(x)\n",
    "df=pd.DataFrame()\n",
    "\n",
    "web_link=f\"https://archive.analytics.mybinder.org/events-{date_list[-1]}.jsonl\"\n",
    "temp = pd.read_json(web_link, lines=True)\n",
    "temp2=temp.loc[temp['spec']=='weix1996/lectures/HEAD']\n",
    "df = df.reindex(columns=temp.columns.to_list())\n",
    "\n",
    "\n",
    "for i in date_list:\n",
    "    try:\n",
    "        web_link=f\"https://archive.analytics.mybinder.org/events-{i}.jsonl\"\n",
    "        temp = pd.read_json(web_link, lines=True)\n",
    "        temp2=(temp.loc[temp['spec']=='weix1996/lectures/HEAD'])\n",
    "        df=pd.concat([df,temp2])\n",
    "        print(i)\n",
    "    except:\n",
    "        continue\n"
   ]
  },
  {
   "cell_type": "code",
   "execution_count": null,
   "id": "b03b7348",
   "metadata": {},
   "outputs": [],
   "source": [
    "df"
   ]
  },
  {
   "cell_type": "code",
   "execution_count": null,
   "id": "f9451c6d",
   "metadata": {},
   "outputs": [],
   "source": [
    "df.to_csv(\"access to github.csv\")"
   ]
  },
  {
   "cell_type": "code",
   "execution_count": null,
   "id": "77828f50",
   "metadata": {},
   "outputs": [],
   "source": []
  },
  {
   "cell_type": "code",
   "execution_count": null,
   "id": "a71a6a4c",
   "metadata": {},
   "outputs": [],
   "source": []
  }
 ],
 "metadata": {
  "kernelspec": {
   "display_name": "Python 3 (ipykernel)",
   "language": "python",
   "name": "python3"
  },
  "language_info": {
   "codemirror_mode": {
    "name": "ipython",
    "version": 3
   },
   "file_extension": ".py",
   "mimetype": "text/x-python",
   "name": "python",
   "nbconvert_exporter": "python",
   "pygments_lexer": "ipython3",
   "version": "3.9.12"
  }
 },
 "nbformat": 4,
 "nbformat_minor": 5
}
